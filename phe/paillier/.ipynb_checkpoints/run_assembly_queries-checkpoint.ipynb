{
 "cells": [
  {
   "cell_type": "markdown",
   "metadata": {},
   "source": [
    "# Description\n",
    "- Project: GEMstone2.0\n",
    "\n",
    "This script runs the encrypted query system against a database (directory) of sequences. In the below four queries, we are searching against a database of ~75,000 sequences including the addgene databse and assembly bacterial genomes. \n",
    "\n",
    "There are four queries of varying match to entries in the addgene database. They are:\n",
    "1. 100% match\n",
    "1. 0% match\n",
    "1. random match\n",
    "1. ~33% match\n",
    "1. ~66% match"
   ]
  },
  {
   "cell_type": "markdown",
   "metadata": {},
   "source": [
    "# Setup environment"
   ]
  },
  {
   "cell_type": "code",
   "execution_count": 1,
   "metadata": {
    "collapsed": false
   },
   "outputs": [],
   "source": [
    "from p_querier import main\n",
    "import random\n",
    "random.seed(1)"
   ]
  },
  {
   "cell_type": "markdown",
   "metadata": {
    "collapsed": true
   },
   "source": [
    "# Run queries\n"
   ]
  },
  {
   "cell_type": "markdown",
   "metadata": {},
   "source": [
    "## Query 1 - 100% match in assembly\n",
    "- K = 16\n",
    "- ~1000 test DB entries"
   ]
  },
  {
   "cell_type": "code",
   "execution_count": 2,
   "metadata": {
    "collapsed": false
   },
   "outputs": [
    {
     "name": "stdout",
     "output_type": "stream",
     "text": [
      "\n",
      "Start time: 1507913986.0989947\n",
      "\n",
      "generating key pair...\n",
      "...key pair complete\n",
      "\n",
      "Query:  AGCATCAGGATATTAATATTTCGTTTTCCCCATTTCCAATTGGTTCTATCTAAAGTCAGTTGCACTTGGTCGAATGAAAACATATTGAAAATCAACTGAGAAATTTGACGATAATCAAAATACTGACCTGCAAAGAAGCGCTGCATACGTCGATAAAATGATTGTGGTAAGCACTTGATGGGCAAGGCTTTAGATGCAGAAGAAAGATTACATGTTTGCTTTAAAATAATCACAAGCATGATGAGCGCAAAGCACTTTAAATGTGACTTGTTCCATTTTAGATATTTGTTTAAGATAAGATATAACTCATTGAGATGTGTCATAGTATTCGTCGTTAGAAAACAATTATTATGACATTATTTCAATGAGTTATCTATTTTTATCGTGTACAGAGAAAAAATTTGGTTCTTGGAATTTCACAGGCTTAGCTTTAACAGTTGCCTGTATAGGTACATTAACCCATTACACTTTAAGTACCCCTCACCCGTTTCAACTCCTATTACAACTTCCCTCAAGTGTAATTTGGTACGGGATTGGCTTAGGTTTTTTAGTCACTGTCTTACCTACCGTTATGCTTATGCAAAGCATTGAGCGTCTCGGAGCATCTCAATCTGCAATGATTGCTTCGATCGGACCAGTTTTAACGATTTTGCTTGCCGTTGCTTTTTTAAATGAACACCTAAATATATGGCAATGGGTCGGTTGTTTCCTCAATATAGTCGGTGTAATGATGATTACTTTAAGAAAGAAAAGACTAAAACACTAAATGCTCTTGACCTCAACTTAAGTTGAGGTTGGATACTCATCTAAATTTTATTAAACGGTTGAGTTCCATGAACAAAGAAATTTTTAAAATCATAAATCCTTCTACTTTATATGACCCAACACCTAACGCTTACAGTCATATCGCTGTAGTAAGTAATTTTAACAATATTATTCATATTGCAGGTCAAGGTGGCGAAGACCAACAAGGTCAATTAAGTTCTCATTTCAGTGAACA \n",
      "\n",
      "encoding query...\n",
      "Length of query BF: 100000\n",
      "...encode complete\n",
      "\n",
      "encrypting query...\n",
      "...encrypt complete: Encrypt time (min) = 0.6022295157114664\n",
      "generating scores...\n",
      "...scores complete\n",
      "performing search...\n",
      "...search complete \n",
      "\n",
      "Query run time: 764.351377248764\n",
      "\n",
      "Length of result: 20000\n",
      "Length of query: 20000 \n",
      "\n",
      "Best IoU:  1.0\n",
      "Best IoLenQuery:  1.0\n",
      "Best IoLenResult:  1.0 \n",
      "\n",
      "Sequence:  AGCATCAGGATATTAATATTTCGTTTTCCCCATTTCCAATTGGTTCTATCTAAAGTCAGTTGCACTTGGTCGAATGAAAACATATTGAAAATCAACTGAGAAATTTGACGATAATCAAAATACTGACCTGCAAAGAAGCGCTGCATACGTCGATAAAATGATTGTGGTAAGCACTTGATGGGCAAGGCTTTAGATGCAGAAGAAAGATTACATGTTTGCTTTAAAATAATCACAAGCATGATGAGCGCAAAGCACTTTAAATGTGACTTGTTCCATTTTAGATATTTGTTTAAGATAAGATATAACTCATTGAGATGTGTCATAGTATTCGTCGTTAGAAAACAATTATTATGACATTATTTCAATGAGTTATCTATTTTTATCGTGTACAGAGAAAAAATTTGGTTCTTGGAATTTCACAGGCTTAGCTTTAACAGTTGCCTGTATAGGTACATTAACCCATTACACTTTAAGTACCCCTCACCCGTTTCAACTCCTATTACAACTTCCCTCAAGTGTAATTTGGTACGGGATTGGCTTAGGTTTTTTAGTCACTGTCTTACCTACCGTTATGCTTATGCAAAGCATTGAGCGTCTCGGAGCATCTCAATCTGCAATGATTGCTTCGATCGGACCAGTTTTAACGATTTTGCTTGCCGTTGCTTTTTTAAATGAACACCTAAATATATGGCAATGGGTCGGTTGTTTCCTCAATATAGTCGGTGTAATGATGATTACTTTAAGAAAGAAAAGACTAAAACACTAAATGCTCTTGACCTCAACTTAAGTTGAGGTTGGATACTCATCTAAATTTTATTAAACGGTTGAGTTCCATGAACAAAGAAATTTTTAAAATCATAAATCCTTCTACTTTATATGACCCAACACCTAACGCTTACAGTCATATCGCTGTAGTAAGTAATTTTAACAATATTATTCATATTGCAGGTCAAGGTGGCGAAGACCAACAAGGTCAATTAAGTTCTCATTTCAGTGAACA\n",
      "---------------------------------------------\n",
      "\n",
      "End time: 1507914750.608535\n",
      "Time elapsed (min): 12.741825671990712\n"
     ]
    }
   ],
   "source": [
    "!PYTHONHASHSEED=0 python p_querier.py /local_data/atitus/data/genomes/bac_queries/query100.fasta /local_data/atitus/data/genomes/bacteria/"
   ]
  },
  {
   "cell_type": "markdown",
   "metadata": {},
   "source": [
    "## Query 2 - 0% match in assembly"
   ]
  },
  {
   "cell_type": "code",
   "execution_count": null,
   "metadata": {
    "collapsed": false
   },
   "outputs": [],
   "source": [
    "!PYTHONHASHSEED=0 python p_querier.py /local_data/atitus/data/genomes/bac_queries/query0.fasta /local_data/atitus/data/genomes/bacteria/"
   ]
  },
  {
   "cell_type": "markdown",
   "metadata": {},
   "source": [
    "## Query 3 - random match in assembly"
   ]
  },
  {
   "cell_type": "code",
   "execution_count": null,
   "metadata": {
    "collapsed": false,
    "scrolled": false
   },
   "outputs": [],
   "source": [
    "!PYTHONHASHSEED=0 python p_querier.py /local_data/atitus/data/genomes/bac_queries/queryRandom.fasta /local_data/atitus/data/genomes/bacteria/"
   ]
  },
  {
   "cell_type": "markdown",
   "metadata": {},
   "source": [
    "## Query 4 ~ 33% match in assembly"
   ]
  },
  {
   "cell_type": "code",
   "execution_count": null,
   "metadata": {
    "collapsed": false
   },
   "outputs": [],
   "source": [
    "!PYTHONHASHSEED=0 python p_querier.py /local_data/atitus/data/genomes/bac_queries/query33.fasta /local_data/atitus/data/genomes/bacteria/"
   ]
  },
  {
   "cell_type": "markdown",
   "metadata": {},
   "source": [
    "## Query 5 ~ 66% match in assembly"
   ]
  },
  {
   "cell_type": "code",
   "execution_count": null,
   "metadata": {
    "collapsed": false
   },
   "outputs": [],
   "source": [
    "!PYTHONHASHSEED=0 python p_querier.py /local_data/atitus/data/genomes/bac_queries/query66.fasta /local_data/atitus/data/genomes/bacteria/"
   ]
  },
  {
   "cell_type": "markdown",
   "metadata": {},
   "source": [
    "## Query 6 - Full DB and sequences\n",
    "- k = 1,000\n",
    "- size = 70,000"
   ]
  },
  {
   "cell_type": "code",
   "execution_count": null,
   "metadata": {
    "collapsed": false
   },
   "outputs": [],
   "source": [
    "!PYTHONHASHSEED=0 python p_querier.py /local_data/atitus/data/genomes/bac_queries/query100.fasta /local_data/atitus/data/genomes/bacteria/"
   ]
  },
  {
   "cell_type": "code",
   "execution_count": null,
   "metadata": {
    "collapsed": true
   },
   "outputs": [],
   "source": []
  }
 ],
 "metadata": {
  "kernelspec": {
   "display_name": "Python 3",
   "language": "python",
   "name": "python3"
  },
  "language_info": {
   "codemirror_mode": {
    "name": "ipython",
    "version": 3
   },
   "file_extension": ".py",
   "mimetype": "text/x-python",
   "name": "python",
   "nbconvert_exporter": "python",
   "pygments_lexer": "ipython3",
   "version": "3.5.2"
  }
 },
 "nbformat": 4,
 "nbformat_minor": 2
}
