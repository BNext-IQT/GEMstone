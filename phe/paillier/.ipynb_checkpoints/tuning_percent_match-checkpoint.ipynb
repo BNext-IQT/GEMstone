{
 "cells": [
  {
   "cell_type": "markdown",
   "metadata": {},
   "source": [
    "# Set up the environment"
   ]
  },
  {
   "cell_type": "code",
   "execution_count": 1,
   "metadata": {
    "collapsed": true
   },
   "outputs": [],
   "source": [
    "\"\"\"This is the primary code document for the execution of this workflow.\n",
    "Queries the database for specific genes.\"\"\"\n",
    "\n",
    "# Load our packages for the environment\n",
    "import sys, os\n",
    "import time\n",
    "from joblib import Parallel, delayed\n",
    "from phe import paillier\n",
    "from p_bloom_filter import encode\n",
    "from p_database import search, magnitude\n",
    "from optimize_invert import invert\n",
    "from Bio import SeqIO\n",
    "import random\n",
    "from random import randint\n",
    "import numpy as np\n",
    "\n",
    "paillier.invert = invert\n",
    "num_cores = 48 # Number of cores for parellel processing\n",
    "query_len = 20000"
   ]
  },
  {
   "cell_type": "markdown",
   "metadata": {},
   "source": [
    "# Locate the data"
   ]
  },
  {
   "cell_type": "code",
   "execution_count": 2,
   "metadata": {
    "collapsed": false
   },
   "outputs": [],
   "source": [
    "base = '/local_data/atitus/data/genomes/' \n",
    "f = '/local_data/atitus/data/genomes/bac_queries/query100.fasta'\n",
    "d = os.path.join(base, 'bacteria/')"
   ]
  },
  {
   "cell_type": "code",
   "execution_count": 3,
   "metadata": {
    "collapsed": false
   },
   "outputs": [
    {
     "name": "stdout",
     "output_type": "stream",
     "text": [
      "Number of files: 978\n",
      "Selected \"GCF_000561165.1_Stap_aure_T62848_V1_genomic.fasta\" from file number 17\n",
      "/local_data/atitus/data/genomes/bacteria/GCF_000561165.1_Stap_aure_T62848_V1_genomic.fasta\n"
     ]
    }
   ],
   "source": [
    "random.seed(1)\n",
    "\n",
    "files = os.listdir(d)\n",
    "num_files = len(files)\n",
    "print('Number of files: %s' %str(num_files))\n",
    "\n",
    "query_file_ind = randint(0, 100)\n",
    "\n",
    "f = files[query_file_ind]\n",
    "\n",
    "print('Selected \"' + f + '\" from file number %s' % str(query_file_ind))\n",
    "\n",
    "f = os.path.join(d, f)\n",
    "print(f)"
   ]
  },
  {
   "cell_type": "markdown",
   "metadata": {},
   "source": [
    "# Read the FASTA sequence file"
   ]
  },
  {
   "cell_type": "code",
   "execution_count": 4,
   "metadata": {
    "collapsed": false
   },
   "outputs": [],
   "source": [
    "seq = ''\n",
    "with open(f, \"r\") as handle:\n",
    "    for record in SeqIO.parse(handle, \"fasta\"):\n",
    "        seq += str(record.seq)"
   ]
  },
  {
   "cell_type": "markdown",
   "metadata": {},
   "source": [
    "# Vary the % of sequence mutation and calculated max IoU\n",
    "- We are ranging from 100% mutated to ~0% mutated\n",
    "- K = 16\n",
    "- SIZE = 100,000\n",
    "- SeqSize = 20,000"
   ]
  },
  {
   "cell_type": "code",
   "execution_count": 9,
   "metadata": {
    "collapsed": false
   },
   "outputs": [],
   "source": [
    "#out = []\n",
    "#for prob in np.arange(1, -0.05, -0.05):\n",
    "#    target_seq = aug_query(seq, prob)\n",
    "#    result = compare(target_seq, d)\n",
    "#    result.append(prob)\n",
    "#    out.append(result)\n",
    "#    print(prob)"
   ]
  },
  {
   "cell_type": "markdown",
   "metadata": {},
   "source": [
    "# Pull out the IoUs and whether the max prediction matches the query"
   ]
  },
  {
   "cell_type": "code",
   "execution_count": 10,
   "metadata": {
    "collapsed": false
   },
   "outputs": [
    {
     "name": "stdout",
     "output_type": "stream",
     "text": [
      "[0, 0, 1, 0, 0, 0, 0, 0, 0, 0, 0, 0, 0, 1, 0, 1, 1, 1, 1, 1, 1]\n",
      "[5.5370985603543746e-05, 0.024464374688589936, 0.04724651694282073, 0.06962220508866615, 0.08584814661705939, 0.09666677443341631, 0.10093852355757117, 0.10175925925925926, 0.10155105031753786, 0.10195445689235265, 0.10204950434835493, 0.10177543624569844, 0.1016086771068186, 0.10329723810682565, 0.10219244823386114, 0.10641608444946152, 0.11433310806659704, 0.13466645836588034, 0.18325939457202506, 0.3379996316080309, 1.0]\n"
     ]
    }
   ],
   "source": [
    "correct = [1 if out[i][4] == seq[:1000] else 0 for i,_ in enumerate(out)]\n",
    "IoUs = [out[i][0] for i,_ in enumerate(out)]\n",
    "print(correct)\n",
    "print(IoUs)"
   ]
  },
  {
   "cell_type": "markdown",
   "metadata": {},
   "source": [
    "# ROC Curve for IoU scores"
   ]
  },
  {
   "cell_type": "code",
   "execution_count": 8,
   "metadata": {
    "collapsed": false
   },
   "outputs": [
    {
     "data": {
      "image/png": "[encoded data removed]",
      "text/plain": [
       "<matplotlib.figure.Figure at 0x7f6b79a82d30>"
      ]
     },
     "metadata": {},
     "output_type": "display_data"
    },
    {
     "data": {
      "text/plain": [
       "<ggplot: (-9223363280631070204)>"
      ]
     },
     "execution_count": 8,
     "metadata": {},
     "output_type": "execute_result"
    }
   ],
   "source": [
    "# http://blog.yhat.com/posts/roc-curves.html\n",
    "from sklearn import metrics\n",
    "import pandas as pd\n",
    "from ggplot import *\n",
    "\n",
    "ytest = correct\n",
    "preds = IoUs\n",
    "fpr, tpr, _ = metrics.roc_curve(ytest, preds)\n",
    "\n",
    "df = pd.DataFrame(dict(fpr=fpr, tpr=tpr))\n",
    "ggplot(df, aes(x='fpr', y='tpr')) +\\\n",
    "    geom_line() +\\\n",
    "    geom_abline(linetype='dashed')"
   ]
  },
  {
   "cell_type": "markdown",
   "metadata": {},
   "source": [
    "# Code for analysis"
   ]
  },
  {
   "cell_type": "code",
   "execution_count": 5,
   "metadata": {
    "collapsed": true
   },
   "outputs": [],
   "source": [
    "####################\n",
    "# Augment query to test mutation effect on performance\n",
    "####################\n",
    "def aug_query(input_seq, mut_prob):\n",
    "    query = ''\n",
    "    probs = [random.uniform(0, 1) for i,_ in enumerate(input_seq)]\n",
    "    \n",
    "    query = ''.join(base if probs[i] > mut_prob else 'X' for i,base in enumerate(input_seq))\n",
    "            \n",
    "    return query.upper()\n",
    "\n",
    "\n",
    "####################\n",
    "# Main function to run pipeline\n",
    "####################\n",
    "def compare(seq, d, dev = False):\n",
    "    \n",
    "    global query_len\n",
    "    \n",
    "    # Create the encryption public and private key pair\n",
    "    public_key, private_key = paillier.generate_paillier_keypair()\n",
    "\n",
    "    # Build the query by concatenating the entries in a FASTA file together\n",
    "    queries = ''\n",
    "    \n",
    "    seq = seq[:query_len]\n",
    "    \n",
    "    max_iou, max_ioLquery, max_ioLresult, best_seq, best_mag = query(seq, public_key, private_key, dev = dev, data_dir = d)\n",
    "    \n",
    "    out = [max_iou, max_ioLquery, max_ioLresult, seq[:1000], best_seq[:1000]]\n",
    "    return out\n",
    "\n",
    "\n",
    "        \n",
    "####################\n",
    "# Query a database with a query and public key and decrypt using a private key\n",
    "####################\n",
    "def query(query, public_key, private_key, dev, data_dir):\n",
    "    \"\"\"Encodes a query and searches for it in the data base.\n",
    "\n",
    "    Args:\n",
    "        query: A genetic sequence (string) to be searched for.\n",
    "        public_key: The public key for the paillier encryption.\n",
    "        private_key: The private key for the paillier encryption.\n",
    "\n",
    "    Returns:\n",
    "        The 'Gene' that is the 'best match' to the query.\n",
    "\n",
    "        The IOU for the 'best match' and the query.\n",
    "    \"\"\"\n",
    "    global num_cores\n",
    "\n",
    "    query = encode(query)\n",
    "    query_mag = magnitude(query)\n",
    "    \n",
    "    query = Parallel(n_jobs=num_cores)(delayed(public_key.encrypt)(x) for x in query)\n",
    "    \n",
    "    scores = search(query, data_dir = data_dir)\n",
    "    \n",
    "    max_iou = 0\n",
    "    best_id = 0\n",
    "    best_seq = ''\n",
    "    result_scores = Parallel(n_jobs=num_cores)(delayed(calc_iou)(id_, private_key, query_mag) for id_ in scores)\n",
    "    \n",
    "    for score_set in result_scores:\n",
    "        if score_set[0] >= max_iou: \n",
    "            max_iou = score_set[0]\n",
    "            max_ioLquery = score_set[1]\n",
    "            max_ioLresult = score_set[2]  \n",
    "            best_seq = score_set[3]\n",
    "            result_mag = score_set[4]\n",
    "                \n",
    "    return max_iou, max_ioLquery, max_ioLresult, best_seq, result_mag\n",
    "\n",
    "\n",
    "####################\n",
    "# Calculate the Intersection over Union\n",
    "####################\n",
    "def calc_iou(id_, private_key, query_mag):\n",
    "    intersection = private_key.decrypt(id_[0])\n",
    "    Iou, IoLquery, IoLresult = iou(intersection, id_[1], query_mag)\n",
    "    \n",
    "    return Iou, IoLquery, IoLresult, id_[2], id_[1]\n",
    "\n",
    "\n",
    "####################\n",
    "# Calculate the Intersection over Union\n",
    "####################\n",
    "def iou(intersection, data_mag, query_mag):\n",
    "    \"\"\"Finds the IOU for two bloom filters.\n",
    "\n",
    "    Args:\n",
    "        intersection: The intersection of the two genes.\n",
    "        data_mag: The magnitude of the gene being compared to.\n",
    "        query_mag: The magnitude of the gene being searched for.\n",
    "\n",
    "    Returns:\n",
    "        The IOU for the two genes.\n",
    "    \"\"\"\n",
    "    union = (data_mag + query_mag) - intersection\n",
    "    \n",
    "    iou = intersection/union\n",
    "    max_ioLquery = intersection/query_mag\n",
    "    max_ioLresult = intersection/data_mag\n",
    "    \n",
    "    return iou, max_ioLquery, max_ioLresult"
   ]
  },
  {
   "cell_type": "code",
   "execution_count": null,
   "metadata": {
    "collapsed": true
   },
   "outputs": [],
   "source": []
  }
 ],
 "metadata": {
  "kernelspec": {
   "display_name": "Python 3",
   "language": "python",
   "name": "python3"
  },
  "language_info": {
   "codemirror_mode": {
    "name": "ipython",
    "version": 3
   },
   "file_extension": ".py",
   "mimetype": "text/x-python",
   "name": "python",
   "nbconvert_exporter": "python",
   "pygments_lexer": "ipython3",
   "version": "3.5.2"
  }
 },
 "nbformat": 4,
 "nbformat_minor": 2
}
