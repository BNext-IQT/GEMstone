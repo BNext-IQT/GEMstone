{
 "cells": [
  {
   "cell_type": "markdown",
   "metadata": {},
   "source": [
    "# Prepare queries"
   ]
  },
  {
   "cell_type": "code",
   "execution_count": 13,
   "metadata": {
    "collapsed": false
   },
   "outputs": [],
   "source": [
    "import os\n",
    "import pickle as p\n",
    "import json\n",
    "\n",
    "#from p_bloom_filter import build_bloom_filter\n",
    "from phe import paillier\n",
    "#from p_database import encode_data, encrypt_bloom_filter\n",
    "from collections import defaultdict, namedtuple\n",
    "\n",
    "data = None\n",
    "SEQUENCE_TYPE = \"public_addgene_full_sequences\"\n",
    "Gene = namedtuple(\"Gene\", \"name, pi, sequence, bloom\")"
   ]
  },
  {
   "cell_type": "code",
   "execution_count": 16,
   "metadata": {
    "collapsed": false
   },
   "outputs": [],
   "source": [
    "f = 'sample.txt'\n",
    "with open(f, 'r') as queries_file:\n",
    "    text = queries_file.read()\n",
    "    queries = text.splitlines()\n",
    "queries_file.close()"
   ]
  },
  {
   "cell_type": "code",
   "execution_count": 18,
   "metadata": {
    "collapsed": true
   },
   "outputs": [],
   "source": [
    "out_loc = os.path.join('/local_data/atitus/data/addgene/queries')"
   ]
  },
  {
   "cell_type": "code",
   "execution_count": 20,
   "metadata": {
    "collapsed": false
   },
   "outputs": [],
   "source": [
    "id_ = 0\n",
    "for query in queries:\n",
    "    query_out = os.path.join(out_loc, 'query%s.fasta' % str(id_))\n",
    "    f_out = open(query_out, 'w')\n",
    "    f_out.write('> Query seq %s\\n' % str(id_))\n",
    "    f_out.write(str(query))\n",
    "    f_out.close()\n",
    "    id_ += 1"
   ]
  },
  {
   "cell_type": "markdown",
   "metadata": {},
   "source": [
    "# Prepare database"
   ]
  },
  {
   "cell_type": "code",
   "execution_count": 9,
   "metadata": {
    "collapsed": false
   },
   "outputs": [],
   "source": [
    "file_loc = os.path.join('../', 'addgene-plasmids-sequences.json')\n",
    "out_loc = os.path.join('/local_data/atitus/data/addgene/addgene_data')"
   ]
  },
  {
   "cell_type": "code",
   "execution_count": 15,
   "metadata": {
    "collapsed": false
   },
   "outputs": [],
   "source": [
    "def encode_data():\n",
    "\n",
    "    with open('../addgene-plasmids-sequences.json') as data_file:\n",
    "        raw_data = json.load(data_file)\n",
    "    data_file.close()\n",
    "\n",
    "    plasmids = raw_data['plasmids']\n",
    "    id_ = 0\n",
    "    # Read in and organize important fields of data from the raw data.\n",
    "    for k in plasmids:\n",
    "        name = k['name']\n",
    "        if k['pi']:\n",
    "            pi = k['pi'][0]\n",
    "            if k['sequences'][SEQUENCE_TYPE]:\n",
    "                sequence = k['sequences'][SEQUENCE_TYPE][0]\n",
    "                \n",
    "                query_out = os.path.join(out_loc, 'addgene%s.fasta' % str(id_))\n",
    "                f_out = open(query_out, 'w')\n",
    "                f_out.write('> Addgene seq %s\\n' % str(id_))\n",
    "                f_out.write(str(sequence))\n",
    "                f_out.close()\n",
    "                id_ += 1"
   ]
  },
  {
   "cell_type": "code",
   "execution_count": 14,
   "metadata": {
    "collapsed": false
   },
   "outputs": [],
   "source": [
    "encode_data()"
   ]
  },
  {
   "cell_type": "code",
   "execution_count": null,
   "metadata": {
    "collapsed": true
   },
   "outputs": [],
   "source": []
  }
 ],
 "metadata": {
  "kernelspec": {
   "display_name": "Python 3",
   "language": "python",
   "name": "python3"
  },
  "language_info": {
   "codemirror_mode": {
    "name": "ipython",
    "version": 3
   },
   "file_extension": ".py",
   "mimetype": "text/x-python",
   "name": "python",
   "nbconvert_exporter": "python",
   "pygments_lexer": "ipython3",
   "version": "3.5.2"
  }
 },
 "nbformat": 4,
 "nbformat_minor": 2
}
