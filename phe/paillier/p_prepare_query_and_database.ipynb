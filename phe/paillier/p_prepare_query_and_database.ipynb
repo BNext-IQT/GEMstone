{
 "cells": [
  {
   "cell_type": "markdown",
   "metadata": {},
   "source": [
    "# Prepare queries"
   ]
  },
  {
   "cell_type": "code",
   "execution_count": 2,
   "metadata": {
    "collapsed": false
   },
   "outputs": [],
   "source": [
    "import os\n",
    "import pickle as p\n",
    "from p_bloom_filter import build_bloom_filter\n",
    "from phe import paillier\n",
    "from p_database import encode_data, encrypt_bloom_filter\n",
    "from collections import defaultdict, namedtuple\n",
    "\n",
    "data = None\n",
    "SEQUENCE_TYPE = \"public_addgene_full_sequences\"\n",
    "Gene = namedtuple(\"Gene\", \"name, pi, sequence, bloom\")"
   ]
  },
  {
   "cell_type": "code",
   "execution_count": 3,
   "metadata": {
    "collapsed": false
   },
   "outputs": [],
   "source": [
    "f = 'sample.txt'\n",
    "with open(f, 'r') as queries_file:\n",
    "    text = queries_file.read()\n",
    "    queries = text.splitlines()\n",
    "queries_file.close()"
   ]
  },
  {
   "cell_type": "code",
   "execution_count": 4,
   "metadata": {
    "collapsed": false
   },
   "outputs": [],
   "source": [
    "qs = []\n",
    "SIZE = 12000\n",
    "K = 16\n",
    "H = hash\n",
    "\n",
    "for query in queries:\n",
    "    qs.append(build_bloom_filter(query, SIZE, K, H))"
   ]
  },
  {
   "cell_type": "code",
   "execution_count": null,
   "metadata": {
    "collapsed": false
   },
   "outputs": [],
   "source": []
  },
  {
   "cell_type": "code",
   "execution_count": 7,
   "metadata": {
    "collapsed": false
   },
   "outputs": [],
   "source": [
    "public_key, private_key = paillier.generate_paillier_keypair()"
   ]
  },
  {
   "cell_type": "code",
   "execution_count": 8,
   "metadata": {
    "collapsed": false
   },
   "outputs": [],
   "source": [
    "enc_qs = []\n",
    "for query in qs:\n",
    "    enc_qs.append(encrypt_bloom_filter(query, public_key))"
   ]
  },
  {
   "cell_type": "code",
   "execution_count": null,
   "metadata": {
    "collapsed": false
   },
   "outputs": [],
   "source": []
  },
  {
   "cell_type": "code",
   "execution_count": 10,
   "metadata": {
    "collapsed": false
   },
   "outputs": [],
   "source": [
    "result_set = {}\n",
    "result_set['public_key'] = public_key\n",
    "result_set['private_key'] = private_key\n",
    "result_set['query_list'] = queries\n",
    "result_set['query_blooms'] = qs\n",
    "result_set['encrypted_blooms'] = enc_qs"
   ]
  },
  {
   "cell_type": "code",
   "execution_count": 11,
   "metadata": {
    "collapsed": false
   },
   "outputs": [
    {
     "data": {
      "text/plain": [
       "dict_keys(['private_key', 'encrypted_blooms', 'query_list', 'public_key', 'query_blooms'])"
      ]
     },
     "execution_count": 11,
     "metadata": {},
     "output_type": "execute_result"
    }
   ],
   "source": [
    "result_set.keys()"
   ]
  },
  {
   "cell_type": "code",
   "execution_count": 12,
   "metadata": {
    "collapsed": false
   },
   "outputs": [],
   "source": [
    "p.dump(result_set, open('prepared_query_data.p', 'wb'))"
   ]
  },
  {
   "cell_type": "markdown",
   "metadata": {},
   "source": [
    "# Prepare database"
   ]
  },
  {
   "cell_type": "code",
   "execution_count": 13,
   "metadata": {
    "collapsed": false
   },
   "outputs": [
    {
     "name": "stdout",
     "output_type": "stream",
     "text": [
      "Data successfully loaded...\n"
     ]
    }
   ],
   "source": [
    "file_loc = os.path.join('../', 'addgene-plasmids-sequences.json')\n",
    "data = encode_data(file_loc)"
   ]
  },
  {
   "cell_type": "code",
   "execution_count": 14,
   "metadata": {
    "collapsed": false
   },
   "outputs": [
    {
     "data": {
      "text/plain": [
       "5931"
      ]
     },
     "execution_count": 14,
     "metadata": {},
     "output_type": "execute_result"
    }
   ],
   "source": [
    "len(data)"
   ]
  },
  {
   "cell_type": "code",
   "execution_count": 4,
   "metadata": {
    "collapsed": false
   },
   "outputs": [],
   "source": [
    "p.dump(data, open('prepared_encoded_database.p', 'wb'))"
   ]
  },
  {
   "cell_type": "code",
   "execution_count": null,
   "metadata": {
    "collapsed": true
   },
   "outputs": [],
   "source": []
  }
 ],
 "metadata": {
  "kernelspec": {
   "display_name": "Python 3",
   "language": "python",
   "name": "python3"
  },
  "language_info": {
   "codemirror_mode": {
    "name": "ipython",
    "version": 3
   },
   "file_extension": ".py",
   "mimetype": "text/x-python",
   "name": "python",
   "nbconvert_exporter": "python",
   "pygments_lexer": "ipython3",
   "version": "3.5.2"
  }
 },
 "nbformat": 4,
 "nbformat_minor": 2
}
