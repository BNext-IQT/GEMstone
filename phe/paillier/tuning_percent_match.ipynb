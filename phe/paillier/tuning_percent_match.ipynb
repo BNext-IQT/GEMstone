{
 "cells": [
  {
   "cell_type": "markdown",
   "metadata": {},
   "source": [
    "# Set up the environment"
   ]
  },
  {
   "cell_type": "code",
   "execution_count": null,
   "metadata": {
    "collapsed": true
   },
   "outputs": [],
   "source": [
    "\"\"\"This is the primary code document for the execution of this workflow.\n",
    "Queries the database for specific genes.\"\"\"\n",
    "\n",
    "# Load our packages for the environment\n",
    "import sys, os\n",
    "import time\n",
    "from joblib import Parallel, delayed\n",
    "from phe import paillier\n",
    "from p_bloom_filter import encode\n",
    "from p_database import search, magnitude\n",
    "from optimize_invert import invert\n",
    "from Bio import SeqIO\n",
    "import random\n",
    "from random import randint\n",
    "import numpy as np\n",
    "\n",
    "paillier.invert = invert\n",
    "num_cores = 48 # Number of cores for parellel processing\n",
    "query_len = 100"
   ]
  },
  {
   "cell_type": "markdown",
   "metadata": {},
   "source": [
    "# Locate the data"
   ]
  },
  {
   "cell_type": "code",
   "execution_count": null,
   "metadata": {
    "collapsed": true
   },
   "outputs": [],
   "source": [
    "base = '/SEAL/local_data/atitus/data/genomes/' \n",
    "f = '/SEAL/local_data/atitus/data/genomes/ecoli_queries/query100.fasta'\n",
    "#d = os.path.join(base, 'ecoli/')\n",
    "d = '/SEAL/local_data/atitus/data/bacterial_genomes/bacteria'"
   ]
  },
  {
   "cell_type": "code",
   "execution_count": 12,
   "metadata": {
    "collapsed": false
   },
   "outputs": [
    {
     "name": "stdout",
     "output_type": "stream",
     "text": [
      "Number of files: 75958\n",
      "Selected \"GCF_002407125.1_ASM240712v1_genomic.fasta\" from file number 7\n",
      "/SEAL/local_data/atitus/data/bacterial_genomes/bacteria/GCF_002407125.1_ASM240712v1_genomic.fasta\n"
     ]
    }
   ],
   "source": [
    "random.seed(2)\n",
    "\n",
    "files = os.listdir(d)\n",
    "num_files = len(files)\n",
    "print('Number of files: %s' %str(num_files))\n",
    "\n",
    "query_file_ind = randint(0, 100)\n",
    "\n",
    "f = files[query_file_ind]\n",
    "\n",
    "print('Selected \"' + f + '\" from file number %s' % str(query_file_ind))\n",
    "\n",
    "f = os.path.join(d, f)\n",
    "print(f)"
   ]
  },
  {
   "cell_type": "markdown",
   "metadata": {},
   "source": [
    "# Read the FASTA sequence file"
   ]
  },
  {
   "cell_type": "code",
   "execution_count": 13,
   "metadata": {
    "collapsed": false
   },
   "outputs": [
    {
     "name": "stdout",
     "output_type": "stream",
     "text": [
      "AAATGCAGATTGTTGCGCAAAAAGAAAATTTAAGTAAAGATTTTTTGCTTGAAAATATTGCTTGCGGTAAAATTATTATCCCTGCAAATATTAATCATAAAAGTCTTGATCCAAATGGTATAGGTTTTGGACTGCGTACTAAGGTTAATGTAAATTTAGGAGTTTCAAATGATTGCGTTGATTATAGCGAGGAAATGAAAAAAGTAGAGCTTGCTCATAAATTTGGCATAGAAGCGATTATGGACTTAAGCAATTATGGCAAAACAAGTCGTTTTAGAGACGAGCTTGTTAATGTTTCAAAAGCTATGATAGGAACAGTTCCTGTATATGATGCGGTAGGATTTTTAGAAAAAGATTTAAAGCAAATTAATGCCAAAGACTTTTTAGATGTTGTATATCATCATGCTAAAAGTGGGGTTGATTTTATGACAATTCATGCAGGTATTAATTCTCGCGCAGCGCATATTTTTAAACAAAGTAAAAGACTTACAAATATAGTTTCAAGAGGAGGCTCTGTACTTTATGCTTGGATGATGATGAAAGATGCTGAAAATCCTTTTTTTGAGTATTATGATGATTTGCTTGACATTTGTTTAAAATATGATGTAACTTTATCTTTGGGCGATGCTTTGCGTCCTGGCTCTACTCACGATGCAAGTGATGGGGCACAAATTTCAGAACTTATAGAATTATCACTCCTTACTCAAAGGGCTTGGGATGTTGGGATTCAAGTAATGATAGAAGGTCCAGGGCATATGGCTATTAATGAAATAGAGGCAAATATGCAATTAGAAAAGCGTTTATGTAAAGGAGCGCCTTTTTATGTCTTAGGACCTTTGGTAATAGATATTGGCGCAGGGTATGATCATATTAGTGGTGCTATTGGAGGAGCTGTGGCTGCAGCTAGCGGTGCTGATATGCTGTGTTATGTAACACCTGCTGAACACTTAAGACTTCCAAATTTAGAAGATGTTAGAGAGGGTATAGTTGCGACTAAAAT\n"
     ]
    }
   ],
   "source": [
    "seq = ''\n",
    "with open(f, \"r\") as handle:\n",
    "    for record in SeqIO.parse(handle, \"fasta\"):\n",
    "        seq += str(record.seq)\n",
    "        \n",
    "print(seq[:1000])"
   ]
  },
  {
   "cell_type": "code",
   "execution_count": 14,
   "metadata": {
    "collapsed": false
   },
   "outputs": [
    {
     "data": {
      "text/plain": [
       "'AAATGCAGATTGTTGCGCAAAAAGAAAATTTAAGTAAAGATTTTTTGCTTGAAAATATTGCTTGCGGTAAAATTATTATCCCTGCAAATATTAATCATAA'"
      ]
     },
     "execution_count": 14,
     "metadata": {},
     "output_type": "execute_result"
    }
   ],
   "source": [
    "seq[0:100]"
   ]
  },
  {
   "cell_type": "markdown",
   "metadata": {},
   "source": [
    "# Vary the % of sequence mutation and calculated max IoU\n",
    "- We are ranging from 100% mutated to ~0% mutated\n",
    "- K = 50\n",
    "- SIZE = 100,000\n",
    "- SeqSize = 20,000"
   ]
  },
  {
   "cell_type": "code",
   "execution_count": null,
   "metadata": {
    "collapsed": true,
    "scrolled": false
   },
   "outputs": [],
   "source": [
    "#out = []\n",
    "#for prob in np.arange(0.0, 1.04, 0.05):\n",
    "    print(prob)\n",
    "    target_seq = aug_query(seq, prob)\n",
    "    result = compare(target_seq, d)\n",
    "    result.append(prob)\n",
    "    out.append(result)\n",
    "print('Done')    "
   ]
  },
  {
   "cell_type": "markdown",
   "metadata": {},
   "source": [
    "# Pull out the IoUs and whether the max prediction matches the query"
   ]
  },
  {
   "cell_type": "code",
   "execution_count": null,
   "metadata": {
    "collapsed": true
   },
   "outputs": [],
   "source": [
    "correct = [1 if out[i][4] == seq[:1000] else 0 for i,_ in enumerate(out)]\n",
    "IoUs = [out[i][0] for i,_ in enumerate(out)]\n",
    "for i,item in enumerate(out):\n",
    "    print(correct[i], item[:3], item[5])"
   ]
  },
  {
   "cell_type": "markdown",
   "metadata": {},
   "source": [
    "# Run query on full dataset"
   ]
  },
  {
   "cell_type": "code",
   "execution_count": null,
   "metadata": {
    "collapsed": false
   },
   "outputs": [
    {
     "name": "stdout",
     "output_type": "stream",
     "text": [
      "\n",
      "Found 75958 entries in database\n",
      "\n",
      "Using 50 entries from database\n",
      "\n"
     ]
    }
   ],
   "source": [
    "start = time.time()\n",
    "result = compare(seq, d)\n",
    "end = time.time() - start\n",
    "print(end/60)\n",
    "print(result)\n",
    "print(result[3] == result[4])"
   ]
  },
  {
   "cell_type": "markdown",
   "metadata": {},
   "source": [
    "# Code for analysis"
   ]
  },
  {
   "cell_type": "code",
   "execution_count": 15,
   "metadata": {
    "collapsed": true
   },
   "outputs": [],
   "source": [
    "####################\n",
    "# Augment query to test mutation effect on performance\n",
    "####################\n",
    "def aug_query(input_seq, mut_prob):\n",
    "    global query_len\n",
    "    \n",
    "    query = ''\n",
    "    \n",
    "    probs = [random.uniform(0, 1) for i in range(int(query_len/2))]\n",
    "    \n",
    "    query = ''.join(input_seq[i] if probs[i] > mut_prob else 'X' for i,_ in enumerate(probs))\n",
    "    query = query + input_seq[len(probs):]\n",
    "    \n",
    "    return query.upper()\n",
    "\n",
    "\n",
    "####################\n",
    "# Main function to run pipeline\n",
    "####################\n",
    "def compare(seq, d, dev = False):\n",
    "    \n",
    "    global query_len\n",
    "    \n",
    "    # Create the encryption public and private key pair\n",
    "    public_key, private_key = paillier.generate_paillier_keypair()\n",
    "    \n",
    "    seq = seq[:query_len]\n",
    "    \n",
    "    max_iou, max_ioLquery, max_ioLresult, best_seq, best_mag = query(seq, public_key, private_key, dev = dev, data_dir = d)\n",
    "    \n",
    "    out = [max_iou, max_ioLquery, max_ioLresult, seq[:1000], best_seq[:1000]]\n",
    "    return out\n",
    "\n",
    "\n",
    "        \n",
    "####################\n",
    "# Query a database with a query and public key and decrypt using a private key\n",
    "####################\n",
    "def query(query, public_key, private_key, dev, data_dir):\n",
    "    \"\"\"Encodes a query and searches for it in the data base.\n",
    "\n",
    "    Args:\n",
    "        query: A genetic sequence (string) to be searched for.\n",
    "        public_key: The public key for the paillier encryption.\n",
    "        private_key: The private key for the paillier encryption.\n",
    "\n",
    "    Returns:\n",
    "        The 'Gene' that is the 'best match' to the query.\n",
    "\n",
    "        The IOU for the 'best match' and the query.\n",
    "    \"\"\"\n",
    "    global num_cores\n",
    "\n",
    "    query = encode(query)\n",
    "    query_mag = magnitude(query)\n",
    "    \n",
    "    query = Parallel(n_jobs=num_cores)(delayed(public_key.encrypt)(x) for x in query)\n",
    "    \n",
    "    scores = search(query, data_dir = data_dir)\n",
    "    \n",
    "    max_iou = 0\n",
    "    best_id = 0\n",
    "    best_seq = ''\n",
    "    result_scores = Parallel(n_jobs=num_cores)(delayed(calc_iou)(id_, private_key, query_mag) for id_ in scores)\n",
    "    \n",
    "    for score_set in result_scores:\n",
    "        if score_set[0] >= max_iou: \n",
    "            max_iou = score_set[0]\n",
    "            max_ioLquery = score_set[1]\n",
    "            max_ioLresult = score_set[2]  \n",
    "            best_seq = score_set[3]\n",
    "            result_mag = score_set[4]\n",
    "                \n",
    "    return max_iou, max_ioLquery, max_ioLresult, best_seq, result_mag\n",
    "\n",
    "\n",
    "####################\n",
    "# Calculate the Intersection over Union\n",
    "####################\n",
    "def calc_iou(id_, private_key, query_mag):\n",
    "    intersection = private_key.decrypt(id_[0])\n",
    "    Iou, IoLquery, IoLresult = iou(intersection, id_[1], query_mag)\n",
    "    \n",
    "    return Iou, IoLquery, IoLresult, id_[2], id_[1]\n",
    "\n",
    "\n",
    "####################\n",
    "# Calculate the Intersection over Union\n",
    "####################\n",
    "def iou(intersection, data_mag, query_mag):\n",
    "    \"\"\"Finds the IOU for two bloom filters.\n",
    "\n",
    "    Args:\n",
    "        intersection: The intersection of the two genes.\n",
    "        data_mag: The magnitude of the gene being compared to.\n",
    "        query_mag: The magnitude of the gene being searched for.\n",
    "\n",
    "    Returns:\n",
    "        The IOU for the two genes.\n",
    "    \"\"\"\n",
    "    union = (data_mag + query_mag) - intersection\n",
    "    \n",
    "    iou = intersection/union\n",
    "    max_ioLquery = intersection/query_mag\n",
    "    max_ioLresult = intersection/data_mag\n",
    "    \n",
    "    return iou, max_ioLquery, max_ioLresult"
   ]
  },
  {
   "cell_type": "code",
   "execution_count": null,
   "metadata": {
    "collapsed": true
   },
   "outputs": [],
   "source": []
  }
 ],
 "metadata": {
  "kernelspec": {
   "display_name": "Python 3",
   "language": "python",
   "name": "python3"
  },
  "language_info": {
   "codemirror_mode": {
    "name": "ipython",
    "version": 3
   },
   "file_extension": ".py",
   "mimetype": "text/x-python",
   "name": "python",
   "nbconvert_exporter": "python",
   "pygments_lexer": "ipython3",
   "version": "3.5.2"
  }
 },
 "nbformat": 4,
 "nbformat_minor": 2
}
