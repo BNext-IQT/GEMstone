{
 "cells": [
  {
   "cell_type": "markdown",
   "metadata": {},
   "source": [
    "# Current GEMstone bloom filter implementation"
   ]
  },
  {
   "cell_type": "code",
   "execution_count": 17,
   "metadata": {},
   "outputs": [
    {
     "ename": "SyntaxError",
     "evalue": "invalid syntax (<ipython-input-17-c9d17e3ffe9c>, line 64)",
     "output_type": "error",
     "traceback": [
      "\u001b[0;36m  File \u001b[0;32m\"<ipython-input-17-c9d17e3ffe9c>\"\u001b[0;36m, line \u001b[0;32m64\u001b[0m\n\u001b[0;31m    print(x, end='')\u001b[0m\n\u001b[0m                ^\u001b[0m\n\u001b[0;31mSyntaxError\u001b[0m\u001b[0;31m:\u001b[0m invalid syntax\n"
     ]
    }
   ],
   "source": [
    "\"\"\"Bloom filter for genetic sequences. Stored as unsigned character array.\"\"\"\n",
    "\n",
    "import sys\n",
    "\n",
    "from array import array\n",
    "from collections import defaultdict\n",
    "\n",
    "#BLOOM FILTER DEFAULTS\n",
    "K = 16\n",
    "H = hash\n",
    "HASH_MAX = sys.maxsize + 1\n",
    "SIZE = 12000\n",
    "\n",
    "def encode(gene, size=SIZE, k=K, h=H):\n",
    "    \"\"\"Creates a bloom filter. Used to encode a genetic sequence.\n",
    "    Args:\n",
    "        gene: A string holding all or part of a DNA sequence.\n",
    "        size: The size of the bloom filter. Set to the default size if\n",
    "            no size is given.\n",
    "        k: The size of the k-mer in the filter (how many nucleotides\n",
    "            [characters] are encoded at once). Set to the default k if no\n",
    "            k is given.\n",
    "        h: The hash used to encode each k-mer entered in the bloom filter.\n",
    "            Set to the default hash if no hash is given.\n",
    "    Returns:\n",
    "        The corresponding bloom filter. An array where each each entry a hashed\n",
    "        k-mer maps to is a one and all other entries are zero.\n",
    "        The number of of unique k-mers in the gene.\n",
    "    \"\"\"\n",
    "    bf = initialize_bloom_filter(size)\n",
    "    gene = gene.upper()                         # Make gene all uppercase.\n",
    "\n",
    "    # Loop through all k-mers for gene.\n",
    "    for n in range(0, len(gene)-k + 1):\n",
    "        # Get k-mer of length k and hash it.\n",
    "        k_mer = gene[n:n + k]                   # TODO: ignore case, 'N's?\n",
    "        k_hash = (h(k_mer) + HASH_MAX) % size   # Make hash positive and within\n",
    "                                                # size of filter.\n",
    "\n",
    "        # Set entry the bloom filter corresponding to the hashed k-mer to one.\n",
    "        bf[k_hash] = 1\n",
    "\n",
    "    return bf\n",
    "\n",
    "def initialize_bloom_filter(size=SIZE):\n",
    "    \"\"\" Creates empty bloom filter.\n",
    "    Args:\n",
    "        size: The size of the bloom filter. Set to the default size if\n",
    "            no size is given.\n",
    "    Returns:\n",
    "        An unsigned character array of the given size where each entry is 0.\n",
    "        The empty bloom filter.\n",
    "    \"\"\"\n",
    "    bf = array('b',[0])\n",
    "    bf = bf * size\n",
    "    return bf\n",
    "\n",
    "def tostring(bf):\n",
    "    \"\"\" Prints bloom filter on one line.\n",
    "    Args:\n",
    "        bf: The bloom filter.\n",
    "    \"\"\"\n",
    "    for x in bf:\n",
    "        print(x, end='')\n",
    "    print()"
   ]
  },
  {
   "cell_type": "code",
   "execution_count": 1,
   "metadata": {
    "collapsed": true
   },
   "outputs": [],
   "source": [
    "from pybloomfilter import BloomFilter"
   ]
  },
  {
   "cell_type": "code",
   "execution_count": 6,
   "metadata": {
    "collapsed": true
   },
   "outputs": [],
   "source": [
    "bf = BloomFilter(12000, 0.01, 'filter.bloom')"
   ]
  },
  {
   "cell_type": "code",
   "execution_count": 7,
   "metadata": {},
   "outputs": [
    {
     "data": {
      "text/plain": [
       "<BloomFilter capacity: 12000, error: 0.010, num_hashes: 6>"
      ]
     },
     "execution_count": 7,
     "metadata": {},
     "output_type": "execute_result"
    }
   ],
   "source": [
    "bf"
   ]
  },
  {
   "cell_type": "code",
   "execution_count": 8,
   "metadata": {
    "collapsed": true
   },
   "outputs": [],
   "source": [
    "h = hash"
   ]
  },
  {
   "cell_type": "code",
   "execution_count": 10,
   "metadata": {},
   "outputs": [],
   "source": [
    "h1 = h('tcga')"
   ]
  },
  {
   "cell_type": "code",
   "execution_count": 11,
   "metadata": {},
   "outputs": [
    {
     "data": {
      "text/plain": [
       "False"
      ]
     },
     "execution_count": 11,
     "metadata": {},
     "output_type": "execute_result"
    }
   ],
   "source": [
    "bf.add(h1)"
   ]
  },
  {
   "cell_type": "code",
   "execution_count": 16,
   "metadata": {},
   "outputs": [
    {
     "data": {
      "text/plain": [
       "1"
      ]
     },
     "execution_count": 16,
     "metadata": {},
     "output_type": "execute_result"
    }
   ],
   "source": [
    "len(bf)"
   ]
  },
  {
   "cell_type": "code",
   "execution_count": null,
   "metadata": {
    "collapsed": true
   },
   "outputs": [],
   "source": []
  }
 ],
 "metadata": {
  "kernelspec": {
   "display_name": "Python 2",
   "language": "python",
   "name": "python2"
  },
  "language_info": {
   "codemirror_mode": {
    "name": "ipython",
    "version": 2
   },
   "file_extension": ".py",
   "mimetype": "text/x-python",
   "name": "python",
   "nbconvert_exporter": "python",
   "pygments_lexer": "ipython2",
   "version": "2.7.13"
  }
 },
 "nbformat": 4,
 "nbformat_minor": 2
}
