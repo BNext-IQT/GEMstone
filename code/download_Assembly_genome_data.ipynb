{
 "cells": [
  {
   "cell_type": "markdown",
   "metadata": {},
   "source": [
    "# Notebook"
   ]
  },
  {
   "cell_type": "code",
   "execution_count": 2,
   "metadata": {
    "collapsed": false
   },
   "outputs": [],
   "source": [
    "import ncbi_genome_download as ngd\n",
    "import os, sys\n",
    "import pandas as pd\n",
    "from Bio import SeqIO\n",
    "from array import array\n",
    "data_dir = os.path.join('/local_data/atitus/data/', '')"
   ]
  },
  {
   "cell_type": "code",
   "execution_count": 3,
   "metadata": {
    "collapsed": false
   },
   "outputs": [
    {
     "data": {
      "text/plain": [
       "0"
      ]
     },
     "execution_count": 3,
     "metadata": {},
     "output_type": "execute_result"
    }
   ],
   "source": [
    "ngd.download(genus='Arabidopsis thaliana', group='plant', file_format='fasta', output=data_dir)"
   ]
  },
  {
   "cell_type": "code",
   "execution_count": 4,
   "metadata": {
    "collapsed": true
   },
   "outputs": [],
   "source": [
    "import gzip\n",
    "import shutil\n",
    "zip_file = os.path.join('/local_data/atitus/data/refseq/plant/GCF_000001735.3', 'GCF_000001735.3_TAIR10_genomic.fna.gz')\n",
    "zip_out = os.path.join('/local_data/atitus/data/refseq/plant/GCF_000001735.3', 'GCF_000001735.3_TAIR10_genomic.fna')\n",
    "with gzip.open(zip_file, 'rb') as f_in, open(zip_out, 'wb') as f_out:\n",
    "    shutil.copyfileobj(f_in, f_out)"
   ]
  },
  {
   "cell_type": "code",
   "execution_count": 5,
   "metadata": {
    "collapsed": true
   },
   "outputs": [],
   "source": [
    "data = list(SeqIO.parse(zip_out, \"fasta\"))"
   ]
  },
  {
   "cell_type": "code",
   "execution_count": 6,
   "metadata": {
    "collapsed": false
   },
   "outputs": [
    {
     "name": "stdout",
     "output_type": "stream",
     "text": [
      "NC_003070.9\n",
      "NC_000932.1\n"
     ]
    }
   ],
   "source": [
    "print(data[0].id)  # first record\n",
    "print(data[-1].id)  # last record"
   ]
  },
  {
   "cell_type": "code",
   "execution_count": 7,
   "metadata": {
    "collapsed": false
   },
   "outputs": [
    {
     "data": {
      "text/plain": [
       "30427671"
      ]
     },
     "execution_count": 7,
     "metadata": {},
     "output_type": "execute_result"
    }
   ],
   "source": [
    "len(data[0])"
   ]
  },
  {
   "cell_type": "code",
   "execution_count": null,
   "metadata": {
    "collapsed": true
   },
   "outputs": [],
   "source": []
  }
 ],
 "metadata": {
  "kernelspec": {
   "display_name": "Python 3",
   "language": "python",
   "name": "python3"
  },
  "language_info": {
   "codemirror_mode": {
    "name": "ipython",
    "version": 3
   },
   "file_extension": ".py",
   "mimetype": "text/x-python",
   "name": "python",
   "nbconvert_exporter": "python",
   "pygments_lexer": "ipython3",
   "version": "3.5.2"
  }
 },
 "nbformat": 4,
 "nbformat_minor": 2
}
