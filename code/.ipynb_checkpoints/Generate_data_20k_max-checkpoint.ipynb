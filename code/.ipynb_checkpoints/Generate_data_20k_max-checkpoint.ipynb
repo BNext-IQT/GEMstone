{
 "cells": [
  {
   "cell_type": "code",
   "execution_count": 7,
   "metadata": {
    "collapsed": true
   },
   "outputs": [],
   "source": [
    "import os\n",
    "from Bio import SeqIO"
   ]
  },
  {
   "cell_type": "code",
   "execution_count": 4,
   "metadata": {
    "collapsed": false
   },
   "outputs": [
    {
     "name": "stdout",
     "output_type": "stream",
     "text": [
      "/local_data/atitus/data/bacterial_genomes/bacteria\n",
      "/local_data/atitus/data/bacterial_genomes/bacteria_20k_max\n"
     ]
    }
   ],
   "source": [
    "out_directory = os.path.join('/local_data/atitus/data/bacterial_genomes')\n",
    "data_dir = os.path.join(out_directory, 'bacteria')\n",
    "out_dir = os.path.join(out_directory, 'bacteria_20k_max')\n",
    "print(data_dir)\n",
    "print(out_dir)"
   ]
  },
  {
   "cell_type": "code",
   "execution_count": null,
   "metadata": {
    "collapsed": false
   },
   "outputs": [
    {
     "name": "stdout",
     "output_type": "stream",
     "text": [
      "Number of files: 75958\n"
     ]
    }
   ],
   "source": [
    "files = os.listdir(data_dir)\n",
    "num_files = len(files)\n",
    "print('Number of files: %s' %str(num_files))\n",
    "\n",
    "for file in files:\n",
    "\n",
    "    file_path = os.path.join(data_dir, file)\n",
    "    query_base = list(SeqIO.parse(file_path, \"fasta\"))\n",
    "\n",
    "    query = ''\n",
    "\n",
    "    with open(file_path, \"r\") as handle:\n",
    "        for record in SeqIO.parse(handle, \"fasta\"):\n",
    "            query += record.seq\n",
    "\n",
    "    query_20k = query[:20000]\n",
    "\n",
    "    file_out = os.path.join(out_dir, file[:-6]+'_20k.fasta')\n",
    "    f_out = open(file_out, 'w')\n",
    "    f_out.write('> '+file+' 20k base length\\n')\n",
    "    f_out.write(str(query_20k))\n",
    "    f_out.close()"
   ]
  },
  {
   "cell_type": "code",
   "execution_count": null,
   "metadata": {
    "collapsed": true
   },
   "outputs": [],
   "source": []
  },
  {
   "cell_type": "code",
   "execution_count": null,
   "metadata": {
    "collapsed": false
   },
   "outputs": [],
   "source": [
    "files = os.listdir(out_dir)\n",
    "file = files[2]\n",
    "file_path = os.path.join(out_dir, file[:-6]+'_20k.fasta')\n",
    "query_base = list(SeqIO.parse(file_path, \"fasta\"))\n",
    "\n",
    "query = ''\n",
    "\n",
    "with open(file_path, \"r\") as handle:\n",
    "    for record in SeqIO.parse(handle, \"fasta\"):\n",
    "        query += record.seq"
   ]
  },
  {
   "cell_type": "code",
   "execution_count": null,
   "metadata": {
    "collapsed": false
   },
   "outputs": [],
   "source": [
    "len(query)"
   ]
  },
  {
   "cell_type": "code",
   "execution_count": null,
   "metadata": {
    "collapsed": true
   },
   "outputs": [],
   "source": []
  }
 ],
 "metadata": {
  "kernelspec": {
   "display_name": "Python 3",
   "language": "python",
   "name": "python3"
  },
  "language_info": {
   "codemirror_mode": {
    "name": "ipython",
    "version": 3
   },
   "file_extension": ".py",
   "mimetype": "text/x-python",
   "name": "python",
   "nbconvert_exporter": "python",
   "pygments_lexer": "ipython3",
   "version": "3.5.2"
  }
 },
 "nbformat": 4,
 "nbformat_minor": 2
}
