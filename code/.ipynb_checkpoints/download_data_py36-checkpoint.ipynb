{
 "cells": [
  {
   "cell_type": "markdown",
   "metadata": {},
   "source": [
    "# Setup our environment"
   ]
  },
  {
   "cell_type": "code",
   "execution_count": 73,
   "metadata": {
    "collapsed": false
   },
   "outputs": [],
   "source": [
    "import ncbi_genome_download as ngd\n",
    "import numpy as np\n",
    "import os, sys\n",
    "from os import listdir\n",
    "import pandas as pd\n",
    "from Bio import SeqIO\n",
    "from array import array\n",
    "import gzip\n",
    "import shutil\n",
    "import random\n",
    "from random import randint"
   ]
  },
  {
   "cell_type": "markdown",
   "metadata": {},
   "source": [
    "# Download the data"
   ]
  },
  {
   "cell_type": "markdown",
   "metadata": {},
   "source": [
    "Here we decide to download a specific taxa of *Escherichia coli*, but any data in NCBI can be downloaded using the package [NCBI Genome Download](https://github.com/kblin/ncbi-genome-download). The code below downloads **6,848** genomic sequences associated with *E. coli*."
   ]
  },
  {
   "cell_type": "code",
   "execution_count": 74,
   "metadata": {
    "collapsed": false
   },
   "outputs": [],
   "source": [
    "out_directory = os.path.join('/local_data/atitus', 'data')\n",
    "bug = 'Escherichia coli'\n",
    "group = 'bacteria'\n",
    "f_format = 'fasta'\n",
    "num_cores = 32\n",
    "\n",
    "#ngd.download(genus = bug, group=group, file_format = f_format, output = out_directory, parallel = num_cores)"
   ]
  },
  {
   "cell_type": "markdown",
   "metadata": {},
   "source": [
    "After we download the data, it's stored in '.gz' files that must be unzipped. The code below unzips all the files into a single directory for subsequent processing. "
   ]
  },
  {
   "cell_type": "code",
   "execution_count": 75,
   "metadata": {
    "collapsed": false
   },
   "outputs": [],
   "source": [
    "out_dir = os.path.join(out_directory, group)\n",
    "\n",
    "if not os.path.exists(out_dir):\n",
    "    os.makedirs(out_dir)\n",
    "\n",
    "file_dir = 'refseq/bacteria/'\n",
    "directory = os.path.join(out_directory, file_dir)\n",
    "\n",
    "files = os.listdir(directory)\n",
    "\n",
    "for file in files:\n",
    "    new_dir = os.path.join(directory, file)\n",
    "    new_files = os.listdir(new_dir)\n",
    "    rel_files = [f for f in new_files if file in f]\n",
    "    \n",
    "    data_zip_file = os.path.join(new_dir, rel_files[0])\n",
    "    file_base = rel_files[0][:-7]\n",
    "    new_file = file_base + '.fasta'\n",
    "    data_file = os.path.join('/local_data/atitus/data/bacteria', new_file)\n",
    "\n",
    "    # This is commented out to prevent accidental running that takes a while to opperate\n",
    "    #with gzip.open(data_zip_file, 'rb') as f_in, open(data_file, 'wb') as f_out:\n",
    "    #    shutil.copyfileobj(f_in, f_out)"
   ]
  },
  {
   "cell_type": "markdown",
   "metadata": {},
   "source": [
    "We next need to generate a number of queries for our analyses. We should have a query that represents 100% match, 0% match, a completely random sequence, and a few varying levels of matching. In this case, we generate two queryies with ~33% and ~66% match. "
   ]
  },
  {
   "cell_type": "markdown",
   "metadata": {},
   "source": [
    "## Query 1 - 100% match"
   ]
  },
  {
   "cell_type": "code",
   "execution_count": 76,
   "metadata": {
    "collapsed": false
   },
   "outputs": [
    {
     "name": "stdout",
     "output_type": "stream",
     "text": [
      "Selected \"GCF_001606515.1_ASM160651v1_genomic.fasta\" as the query base for query 1\n",
      "Query length: 5445722\n"
     ]
    }
   ],
   "source": [
    "random.seed(1)\n",
    "files = os.listdir(out_dir)\n",
    "num_files = len(files)\n",
    "\n",
    "query_file_ind = randint(0, num_files)\n",
    "\n",
    "query_file = files[query_file_ind]\n",
    "print('Selected \"' + query_file + '\" as the query base for query 1')\n",
    "\n",
    "query_path = os.path.join(out_dir, query_file)\n",
    "query_base = list(SeqIO.parse(query_path, \"fasta\"))\n",
    "\n",
    "query = ''\n",
    "\n",
    "with open(query_path, \"r\") as handle:\n",
    "    for record in SeqIO.parse(handle, \"fasta\"):\n",
    "        query += record.seq\n",
    "        \n",
    "query_len = len(query)\n",
    "print('Query length: %s' %str(query_len))\n",
    "\n",
    "\n",
    "#with open(data_file, 'wb') as f_out:\n",
    "#    shutil.copyfileobj(f_in, f_out)"
   ]
  },
  {
   "cell_type": "markdown",
   "metadata": {},
   "source": [
    "## Query 2 - 0% match"
   ]
  },
  {
   "cell_type": "code",
   "execution_count": 77,
   "metadata": {
    "collapsed": false
   },
   "outputs": [
    {
     "name": "stdout",
     "output_type": "stream",
     "text": [
      "5445722 XXXXXXXXXXXXXXXXXXXXXXXXXXXXXXXXXXXXXXXXXXXXXXXXXXXXXXXXXXXXXXXXXXXXXXXXXXXXXXXXXXXXXXXXXXXXXXXXXXXX\n"
     ]
    }
   ],
   "source": [
    "query_no_match = 'X'*query_len\n",
    "print(len(query_no_match), query_no_match[:100])"
   ]
  },
  {
   "cell_type": "markdown",
   "metadata": {},
   "source": [
    "## Query 3 - completely random sequence"
   ]
  },
  {
   "cell_type": "code",
   "execution_count": 78,
   "metadata": {
    "collapsed": false
   },
   "outputs": [
    {
     "name": "stdout",
     "output_type": "stream",
     "text": [
      "5445722 CCGATTAGCCAAACCCATTCTGTGAAAAACGTTCACGAGAAGACGTGCGTCGGTTAATGTACTGAATTTAGGCTGTTTTCAGGCTGGGCAAAATGACGAG\n"
     ]
    }
   ],
   "source": [
    "random.seed(3)\n",
    "bases = ['T', 'C', 'G', 'A']\n",
    "\n",
    "query_random_bases = ''\n",
    "\n",
    "for i in range(0, query_len):\n",
    "    query_random_bases += random.choice(bases)\n",
    "\n",
    "print(len(query_random_bases), query_random_bases[:100])"
   ]
  },
  {
   "cell_type": "markdown",
   "metadata": {},
   "source": [
    "## Query 4 - approximately 33% match"
   ]
  },
  {
   "cell_type": "code",
   "execution_count": null,
   "metadata": {
    "collapsed": false
   },
   "outputs": [],
   "source": [
    "random.seed(4)\n",
    "\n",
    "query_33_match = ''\n",
    "\n",
    "for base in query:\n",
    "    choice = np.random.choice([0, 1], replace=True, p=[0.33, 0.67])\n",
    "    \n",
    "    if choice == 1:\n",
    "        query_33_match += 'X'\n",
    "    else:\n",
    "        query_33_match += base\n",
    "\n",
    "print(len(query_33_match), query_33_match[:100])"
   ]
  },
  {
   "cell_type": "markdown",
   "metadata": {},
   "source": [
    "## Query 5 - approximately 66% match"
   ]
  },
  {
   "cell_type": "code",
   "execution_count": null,
   "metadata": {
    "collapsed": true
   },
   "outputs": [],
   "source": [
    "random.seed(5)\n",
    "\n",
    "query_66_match = ''\n",
    "\n",
    "for base in query:\n",
    "    choice = np.random.choice([0, 1], replace=True, p=[0.67, 0.33])\n",
    "    \n",
    "    if choice == 1:\n",
    "        query_66_match += 'X'\n",
    "    else:\n",
    "        query_66_match += base\n",
    "\n",
    "print(len(query_66_match), query_66_match[:100])"
   ]
  },
  {
   "cell_type": "code",
   "execution_count": 82,
   "metadata": {
    "collapsed": false
   },
   "outputs": [
    {
     "data": {
      "text/plain": [
       "1"
      ]
     },
     "execution_count": 82,
     "metadata": {},
     "output_type": "execute_result"
    }
   ],
   "source": [
    "np.random.choice([0, 1], replace=True, p=[0.33, 0.67])"
   ]
  },
  {
   "cell_type": "code",
   "execution_count": null,
   "metadata": {
    "collapsed": true
   },
   "outputs": [],
   "source": []
  }
 ],
 "metadata": {
  "kernelspec": {
   "display_name": "Python 3",
   "language": "python",
   "name": "python3"
  }
 },
 "nbformat": 4,
 "nbformat_minor": 2
}
