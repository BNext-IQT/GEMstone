{
 "cells": [
  {
   "cell_type": "markdown",
   "metadata": {},
   "source": [
    "# Setup our environment"
   ]
  },
  {
   "cell_type": "code",
   "execution_count": null,
   "metadata": {
    "collapsed": false
   },
   "outputs": [],
   "source": [
    "import ncbi_genome_download as ngd\n",
    "import numpy as np\n",
    "import os, sys\n",
    "from os import listdir\n",
    "import pandas as pd\n",
    "from Bio import SeqIO\n",
    "from array import array\n",
    "import gzip\n",
    "import shutil\n",
    "import random\n",
    "from random import randint"
   ]
  },
  {
   "cell_type": "markdown",
   "metadata": {},
   "source": [
    "# Download the data"
   ]
  },
  {
   "cell_type": "markdown",
   "metadata": {},
   "source": [
    "Here we decide to download a specific taxa of *Escherichia coli*, but any data in NCBI can be downloaded using the package [NCBI Genome Download](https://github.com/kblin/ncbi-genome-download). The code below downloads **6,848** genomic sequences associated with *E. coli*."
   ]
  },
  {
   "cell_type": "code",
   "execution_count": null,
   "metadata": {
    "collapsed": false
   },
   "outputs": [],
   "source": [
    "out_directory = os.path.join('/local_data/atitus/data/genomes')\n",
    "print(out_directory)\n",
    "bug = 'Mycoplasma genitalium'\n",
    "group = 'bacteria'\n",
    "f_format = 'fasta'\n",
    "num_cores = 48\n",
    "assembly_level = 'complete'\n",
    "\n",
    "#ngd.download(genus = bug, group=group, file_format = f_format, output = out_directory, parallel = num_cores, \n",
    "#             assembly_level = assembly_level)\n",
    "\n",
    "#ngd.download(group=group, file_format = f_format, output = out_directory, parallel = num_cores)"
   ]
  },
  {
   "cell_type": "markdown",
   "metadata": {},
   "source": [
    "After we download the data, it's stored in '.gz' files that must be unzipped. The code below unzips all the files into a single directory for subsequent processing. "
   ]
  },
  {
   "cell_type": "code",
   "execution_count": null,
   "metadata": {
    "collapsed": false
   },
   "outputs": [],
   "source": [
    "out_dir = os.path.join(out_directory)\n",
    "print('Out directory: ' + out_dir)\n",
    "\n",
    "if not os.path.exists(out_dir):\n",
    "    os.makedirs(out_dir)\n",
    "\n",
    "file_dir = 'refseq/bacteria/'\n",
    "directory = os.path.join(out_directory, file_dir)\n",
    "print('Zip directory: ' + directory)\n",
    "\n",
    "files = os.listdir(directory)\n",
    "print('Number of zip files: %s' %str(len(files)))\n",
    "\n",
    "for file in files:\n",
    "    new_dir = os.path.join(directory, file)\n",
    "    new_files = os.listdir(new_dir)\n",
    "    rel_files = [f for f in new_files if file in f]\n",
    "    \n",
    "    if len(rel_files) == 0: break\n",
    "        \n",
    "    data_zip_file = os.path.join(new_dir, rel_files[0])\n",
    "    file_base = rel_files[0][:-7]\n",
    "    new_file = file_base + '.fasta'\n",
    "    data_file = os.path.join(out_dir, 'bacteria', new_file)\n",
    "\n",
    "    # This is commented out to prevent accidental running that takes a while to opperate\n",
    "    with gzip.open(data_zip_file, 'rb') as f_in, open(data_file, 'wb') as f_out:\n",
    "        shutil.copyfileobj(f_in, f_out)"
   ]
  },
  {
   "cell_type": "markdown",
   "metadata": {},
   "source": [
    "We next need to generate a number of queries for our analyses. We should have a query that represents 100% match, 0% match, a completely random sequence, and a few varying levels of matching. In this case, we generate two queryies with ~33% and ~66% match. "
   ]
  },
  {
   "cell_type": "markdown",
   "metadata": {},
   "source": [
    "## Find the largest sequence in our dataset"
   ]
  },
  {
   "cell_type": "code",
   "execution_count": null,
   "metadata": {
    "collapsed": true
   },
   "outputs": [],
   "source": [
    "out_dir = os.path.join('/local_data/atitus/data/genomes/bacteria')"
   ]
  },
  {
   "cell_type": "code",
   "execution_count": null,
   "metadata": {
    "collapsed": false
   },
   "outputs": [],
   "source": [
    "files = os.listdir(out_dir)\n",
    "max_len = 0\n",
    "for i,query_file in enumerate(files):\n",
    "    query_path = os.path.join(out_dir, query_file)\n",
    "    query = ''\n",
    "\n",
    "    with open(query_path, \"r\") as handle:\n",
    "        for record in SeqIO.parse(handle, \"fasta\"):\n",
    "            query += record.seq\n",
    "\n",
    "    query_len = len(query)\n",
    "    if query_len > max_len: \n",
    "        max_len = query_len\n",
    "        print('file number %s, size: %s' %(i,max_len))"
   ]
  },
  {
   "cell_type": "code",
   "execution_count": null,
   "metadata": {
    "collapsed": false
   },
   "outputs": [],
   "source": [
    "print('Max data length is: %s' % str(max_len))"
   ]
  },
  {
   "cell_type": "markdown",
   "metadata": {},
   "source": [
    "## Query 1 - 100% match\n",
    "First we generate our query, then we write it to a .fasta file"
   ]
  },
  {
   "cell_type": "code",
   "execution_count": null,
   "metadata": {
    "collapsed": false
   },
   "outputs": [],
   "source": [
    "random.seed(1)\n",
    "\n",
    "files = os.listdir(out_dir)\n",
    "num_files = len(files)\n",
    "print('Number of files: %s' %str(num_files))\n",
    "\n",
    "query_file_ind = randint(100, 20000)\n",
    "\n",
    "query_file = files[query_file_ind]\n",
    "#query_file = files[0]\n",
    "print('Selected \"' + query_file + '\" as the query base for query 1')\n",
    "\n",
    "query_path = os.path.join(out_dir, query_file)\n",
    "query_base = list(SeqIO.parse(query_path, \"fasta\"))\n",
    "\n",
    "query = ''\n",
    "\n",
    "with open(query_path, \"r\") as handle:\n",
    "    for record in SeqIO.parse(handle, \"fasta\"):\n",
    "        query += record.seq\n",
    "        \n",
    "query_len = len(query)\n",
    "print('Query length: %s' %str(query_len))"
   ]
  },
  {
   "cell_type": "code",
   "execution_count": null,
   "metadata": {
    "collapsed": false
   },
   "outputs": [],
   "source": [
    "query_out = os.path.join(out_directory, 'bac_queries', 'query100.fasta')\n",
    "f_out = open(query_out, 'w')\n",
    "f_out.write('> Query 1 - 100% match in DB\\n')\n",
    "f_out.write(str(query))\n",
    "f_out.close()"
   ]
  },
  {
   "cell_type": "markdown",
   "metadata": {},
   "source": [
    "## Query 2 - 0% match\n",
    "First we generate our query, then we write it to a .fasta file"
   ]
  },
  {
   "cell_type": "code",
   "execution_count": null,
   "metadata": {
    "collapsed": false
   },
   "outputs": [],
   "source": [
    "query_no_match = 'X'*int((query_len))\n",
    "print(len(query_no_match), query_no_match[:100])"
   ]
  },
  {
   "cell_type": "code",
   "execution_count": null,
   "metadata": {
    "collapsed": false
   },
   "outputs": [],
   "source": [
    "query_out = os.path.join(out_directory, 'bac_queries', 'query0.fasta')\n",
    "f_out = open(query_out, 'w')\n",
    "f_out.write('> Query 2 - 0% match in DB\\n')\n",
    "f_out.write(str(query_no_match))\n",
    "f_out.close()"
   ]
  },
  {
   "cell_type": "markdown",
   "metadata": {},
   "source": [
    "## Query 3 - completely random sequence\n",
    "First we generate our query, then we write it to a .fasta file"
   ]
  },
  {
   "cell_type": "code",
   "execution_count": null,
   "metadata": {
    "collapsed": false
   },
   "outputs": [],
   "source": [
    "random.seed(1)\n",
    "bases = ['T', 'C', 'G', 'A']\n",
    "\n",
    "query_random_bases = ''\n",
    "\n",
    "for i in range(0, query_len):\n",
    "    query_random_bases += random.choice(bases)\n",
    "\n",
    "print(len(query_random_bases), query_random_bases[:100])"
   ]
  },
  {
   "cell_type": "code",
   "execution_count": null,
   "metadata": {
    "collapsed": false
   },
   "outputs": [],
   "source": [
    "query_out = os.path.join(out_directory, 'bac_queries', 'queryRandom.fasta')\n",
    "f_out = open(query_out, 'w')\n",
    "f_out.write('> Query 3 - completely random match in DB\\n')\n",
    "f_out.write(str(query_random_bases))\n",
    "f_out.close()"
   ]
  },
  {
   "cell_type": "markdown",
   "metadata": {},
   "source": [
    "## Query 4 - approximately 33% match\n",
    "First we generate our query, then we write it to a .fasta file"
   ]
  },
  {
   "cell_type": "code",
   "execution_count": null,
   "metadata": {
    "collapsed": false
   },
   "outputs": [],
   "source": [
    "random.seed(1)\n",
    "\n",
    "#query_file = files[0]\n",
    "print('Selected \"' + query_file + '\" as the query base for query 1')\n",
    "\n",
    "query_path = os.path.join(out_dir, query_file)\n",
    "query_base = list(SeqIO.parse(query_path, \"fasta\"))\n",
    "\n",
    "query = ''\n",
    "\n",
    "with open(query_path, \"r\") as handle:\n",
    "    for record in SeqIO.parse(handle, \"fasta\"):\n",
    "        query += record.seq\n",
    "        \n",
    "query_len = len(query)\n",
    "print('Query length: %s' % str(query_len))\n",
    "\n",
    "\n",
    "\n",
    "query_33_match = ''\n",
    "\n",
    "for base in query:\n",
    "    choice = np.random.choice([0, 1], replace=True, p=[0.33, 0.67])\n",
    "    \n",
    "    if choice == 1:\n",
    "        query_33_match += 'X'\n",
    "    else:\n",
    "        query_33_match += base\n",
    "\n",
    "print(len(query_33_match))\n",
    "print(query_33_match[:100])\n",
    "print(query[:100])"
   ]
  },
  {
   "cell_type": "code",
   "execution_count": null,
   "metadata": {
    "collapsed": true
   },
   "outputs": [],
   "source": [
    "query_out = os.path.join(out_directory, 'bac_queries', 'query33.fasta')\n",
    "f_out = open(query_out, 'w')\n",
    "f_out.write('> Query 4 - 33% match in DB\\n')\n",
    "f_out.write(str(query_33_match))\n",
    "f_out.close()"
   ]
  },
  {
   "cell_type": "markdown",
   "metadata": {},
   "source": [
    "## Query 5 - approximately 66% match\n",
    "First we generate our query, then we write it to a .fasta file"
   ]
  },
  {
   "cell_type": "code",
   "execution_count": null,
   "metadata": {
    "collapsed": false
   },
   "outputs": [],
   "source": [
    "random.seed(1)\n",
    "\n",
    "#query_file = files[0]\n",
    "print('Selected \"' + query_file + '\" as the query base for query 5')\n",
    "\n",
    "query_path = os.path.join(out_dir, query_file)\n",
    "query_base = list(SeqIO.parse(query_path, \"fasta\"))\n",
    "\n",
    "query = ''\n",
    "\n",
    "with open(query_path, \"r\") as handle:\n",
    "    for record in SeqIO.parse(handle, \"fasta\"):\n",
    "        query += record.seq\n",
    "        \n",
    "query_len = len(query)\n",
    "print('Query length: %s' % str(query_len))\n",
    "\n",
    "\n",
    "query_66_match = ''\n",
    "\n",
    "for base in query:\n",
    "    choice = np.random.choice([0, 1], replace=True, p=[0.67, 0.33])\n",
    "    \n",
    "    if choice == 1:\n",
    "        query_66_match += 'X'\n",
    "    else:\n",
    "        query_66_match += base\n",
    "\n",
    "print(len(query_66_match))\n",
    "print(query_66_match[:100])\n",
    "print(query[:100])"
   ]
  },
  {
   "cell_type": "code",
   "execution_count": null,
   "metadata": {
    "collapsed": true
   },
   "outputs": [],
   "source": [
    "query_out = os.path.join(out_directory, 'bac_queries', 'query66.fasta')\n",
    "f_out = open(query_out, 'w')\n",
    "f_out.write('> Query 5 - 66% match in DB\\n')\n",
    "f_out.write(str(query_66_match))\n",
    "f_out.close()"
   ]
  },
  {
   "cell_type": "code",
   "execution_count": null,
   "metadata": {
    "collapsed": true
   },
   "outputs": [],
   "source": []
  }
 ],
 "metadata": {
  "kernelspec": {
   "display_name": "Python 3",
   "language": "python",
   "name": "python3"
  },
  "language_info": {
   "codemirror_mode": {
    "name": "ipython",
    "version": 3
   },
   "file_extension": ".py",
   "mimetype": "text/x-python",
   "name": "python",
   "nbconvert_exporter": "python",
   "pygments_lexer": "ipython3",
   "version": "3.5.2"
  }
 },
 "nbformat": 4,
 "nbformat_minor": 2
}
