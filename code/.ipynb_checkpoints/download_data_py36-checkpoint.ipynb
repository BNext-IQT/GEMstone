{
 "cells": [
  {
   "cell_type": "markdown",
   "metadata": {},
   "source": [
    "# Setup our environment"
   ]
  },
  {
   "cell_type": "code",
   "execution_count": 2,
   "metadata": {
    "collapsed": false
   },
   "outputs": [],
   "source": [
    "import ncbi_genome_download as ngd\n",
    "import numpy as np\n",
    "import os, sys\n",
    "from os import listdir\n",
    "import pandas as pd\n",
    "from Bio import SeqIO\n",
    "from array import array\n",
    "import gzip\n",
    "import shutil\n",
    "import random\n",
    "from random import randint"
   ]
  },
  {
   "cell_type": "markdown",
   "metadata": {},
   "source": [
    "# Download the data"
   ]
  },
  {
   "cell_type": "markdown",
   "metadata": {},
   "source": [
    "Here we decide to download a specific taxa of *Escherichia coli*, but any data in NCBI can be downloaded using the package [NCBI Genome Download](https://github.com/kblin/ncbi-genome-download). The code below downloads **6,848** genomic sequences associated with *E. coli*."
   ]
  },
  {
   "cell_type": "code",
   "execution_count": 18,
   "metadata": {
    "collapsed": false
   },
   "outputs": [
    {
     "name": "stdout",
     "output_type": "stream",
     "text": [
      "/local_data/atitus/data/genomes\n"
     ]
    }
   ],
   "source": [
    "out_directory = os.path.join('/local_data/atitus/data', 'genomes')\n",
    "print(out_directory)\n",
    "bug = 'Mycoplasma genitalium'\n",
    "group = 'bacteria'\n",
    "f_format = 'fasta'\n",
    "num_cores = 16\n",
    "assembly_level = 'complete'\n",
    "\n",
    "#ngd.download(genus = bug, group=group, file_format = f_format, output = out_directory, parallel = num_cores, \n",
    "#             assembly_level = assembly_level)"
   ]
  },
  {
   "cell_type": "markdown",
   "metadata": {},
   "source": [
    "After we download the data, it's stored in '.gz' files that must be unzipped. The code below unzips all the files into a single directory for subsequent processing. "
   ]
  },
  {
   "cell_type": "code",
   "execution_count": 11,
   "metadata": {
    "collapsed": false
   },
   "outputs": [
    {
     "name": "stdout",
     "output_type": "stream",
     "text": [
      "Out directory: /local_data/atitus/data/genomes/mycoplasma/\n",
      "Zip directory: /local_data/atitus/data/genomes/mycoplasma/refseq/bacteria/\n"
     ]
    },
    {
     "ename": "FileNotFoundError",
     "evalue": "[Errno 2] No such file or directory: '/local_data/atitus/data/genomes/mycoplasma/refseq/bacteria/'",
     "output_type": "error",
     "traceback": [
      "\u001b[0;31m---------------------------------------------------------------------------\u001b[0m",
      "\u001b[0;31mFileNotFoundError\u001b[0m                         Traceback (most recent call last)",
      "\u001b[0;32m<ipython-input-11-21b4b3bf1022>\u001b[0m in \u001b[0;36m<module>\u001b[0;34m()\u001b[0m\n\u001b[1;32m      9\u001b[0m \u001b[0mprint\u001b[0m\u001b[0;34m(\u001b[0m\u001b[0;34m'Zip directory: '\u001b[0m \u001b[0;34m+\u001b[0m \u001b[0mdirectory\u001b[0m\u001b[0;34m)\u001b[0m\u001b[0;34m\u001b[0m\u001b[0m\n\u001b[1;32m     10\u001b[0m \u001b[0;34m\u001b[0m\u001b[0m\n\u001b[0;32m---> 11\u001b[0;31m \u001b[0mfiles\u001b[0m \u001b[0;34m=\u001b[0m \u001b[0mos\u001b[0m\u001b[0;34m.\u001b[0m\u001b[0mlistdir\u001b[0m\u001b[0;34m(\u001b[0m\u001b[0mdirectory\u001b[0m\u001b[0;34m)\u001b[0m\u001b[0;34m\u001b[0m\u001b[0m\n\u001b[0m\u001b[1;32m     12\u001b[0m \u001b[0mprint\u001b[0m\u001b[0;34m(\u001b[0m\u001b[0;34m'Number of zip files: %s'\u001b[0m \u001b[0;34m%\u001b[0m\u001b[0mstr\u001b[0m\u001b[0;34m(\u001b[0m\u001b[0mlen\u001b[0m\u001b[0;34m(\u001b[0m\u001b[0mfiles\u001b[0m\u001b[0;34m)\u001b[0m\u001b[0;34m)\u001b[0m\u001b[0;34m)\u001b[0m\u001b[0;34m\u001b[0m\u001b[0m\n\u001b[1;32m     13\u001b[0m \u001b[0;34m\u001b[0m\u001b[0m\n",
      "\u001b[0;31mFileNotFoundError\u001b[0m: [Errno 2] No such file or directory: '/local_data/atitus/data/genomes/mycoplasma/refseq/bacteria/'"
     ]
    }
   ],
   "source": [
    "out_dir = os.path.join(out_directory, '')\n",
    "print('Out directory: ' + out_dir)\n",
    "\n",
    "if not os.path.exists(out_dir):\n",
    "    os.makedirs(out_dir)\n",
    "\n",
    "file_dir = 'refseq/bacteria/'\n",
    "directory = os.path.join(out_directory, file_dir)\n",
    "print('Zip directory: ' + directory)\n",
    "\n",
    "files = os.listdir(directory)\n",
    "print('Number of zip files: %s' %str(len(files)))\n",
    "\n",
    "for file in files:\n",
    "    new_dir = os.path.join(directory, file)\n",
    "    new_files = os.listdir(new_dir)\n",
    "    rel_files = [f for f in new_files if file in f]\n",
    "    \n",
    "    data_zip_file = os.path.join(new_dir, rel_files[0])\n",
    "    file_base = rel_files[0][:-7]\n",
    "    new_file = file_base + '.fasta'\n",
    "    data_file = os.path.join(out_dir, new_file)\n",
    "\n",
    "    # This is commented out to prevent accidental running that takes a while to opperate\n",
    "    #with gzip.open(data_zip_file, 'rb') as f_in, open(data_file, 'wb') as f_out:\n",
    "    #    shutil.copyfileobj(f_in, f_out)"
   ]
  },
  {
   "cell_type": "markdown",
   "metadata": {},
   "source": [
    "We next need to generate a number of queries for our analyses. We should have a query that represents 100% match, 0% match, a completely random sequence, and a few varying levels of matching. In this case, we generate two queryies with ~33% and ~66% match. "
   ]
  },
  {
   "cell_type": "markdown",
   "metadata": {},
   "source": [
    "## Find the largest sequence in our dataset"
   ]
  },
  {
   "cell_type": "code",
   "execution_count": 14,
   "metadata": {
    "collapsed": false
   },
   "outputs": [
    {
     "name": "stdout",
     "output_type": "stream",
     "text": [
      "579796\n",
      "580076\n"
     ]
    }
   ],
   "source": [
    "files = os.listdir(out_dir)\n",
    "max_len = 0\n",
    "for query_file in files:\n",
    "    query_path = os.path.join(out_dir, query_file)\n",
    "    query = ''\n",
    "\n",
    "    with open(query_path, \"r\") as handle:\n",
    "        for record in SeqIO.parse(handle, \"fasta\"):\n",
    "            query += record.seq\n",
    "\n",
    "    query_len = len(query)\n",
    "    if query_len > max_len: \n",
    "        max_len = query_len\n",
    "        print(max_len)"
   ]
  },
  {
   "cell_type": "code",
   "execution_count": 15,
   "metadata": {
    "collapsed": false
   },
   "outputs": [
    {
     "name": "stdout",
     "output_type": "stream",
     "text": [
      "Max data length is: 580076\n"
     ]
    }
   ],
   "source": [
    "print('Max data length is: %s' % str(max_len))"
   ]
  },
  {
   "cell_type": "markdown",
   "metadata": {},
   "source": [
    "## Query 1 - 100% match\n",
    "First we generate our query, then we write it to a .fasta file"
   ]
  },
  {
   "cell_type": "code",
   "execution_count": 16,
   "metadata": {
    "collapsed": false
   },
   "outputs": [
    {
     "name": "stdout",
     "output_type": "stream",
     "text": [
      "Number of files: 5\n",
      "Selected \"GCF_000292485.1_ASM29248v1_genomic.fasta\" as the query base for query 1\n",
      "Query length: 579796\n"
     ]
    }
   ],
   "source": [
    "random.seed(1)\n",
    "files = os.listdir(out_dir)\n",
    "num_files = len(files)\n",
    "print('Number of files: %s' %str(num_files))\n",
    "\n",
    "query_file_ind = randint(0, num_files)\n",
    "\n",
    "#query_file = files[query_file_ind]\n",
    "query_file = files[0]\n",
    "print('Selected \"' + query_file + '\" as the query base for query 1')\n",
    "\n",
    "query_path = os.path.join(out_dir, query_file)\n",
    "query_base = list(SeqIO.parse(query_path, \"fasta\"))\n",
    "\n",
    "query = ''\n",
    "\n",
    "with open(query_path, \"r\") as handle:\n",
    "    for record in SeqIO.parse(handle, \"fasta\"):\n",
    "        query += record.seq\n",
    "        \n",
    "query_len = len(query)\n",
    "print('Query length: %s' %str(query_len))"
   ]
  },
  {
   "cell_type": "code",
   "execution_count": 19,
   "metadata": {
    "collapsed": false
   },
   "outputs": [],
   "source": [
    "query_out = os.path.join(out_directory, 'my_queries', 'query100.fasta')\n",
    "f_out = open(query_out, 'w')\n",
    "f_out.write('> Query 1 - 100% match in DB\\n')\n",
    "f_out.write(str(query))\n",
    "f_out.close()"
   ]
  },
  {
   "cell_type": "markdown",
   "metadata": {},
   "source": [
    "## Query 2 - 0% match\n",
    "First we generate our query, then we write it to a .fasta file"
   ]
  },
  {
   "cell_type": "code",
   "execution_count": 23,
   "metadata": {
    "collapsed": false
   },
   "outputs": [
    {
     "name": "stdout",
     "output_type": "stream",
     "text": [
      "434847 XXXXXXXXXXXXXXXXXXXXXXXXXXXXXXXXXXXXXXXXXXXXXXXXXXXXXXXXXXXXXXXXXXXXXXXXXXXXXXXXXXXXXXXXXXXXXXXXXXXX\n"
     ]
    }
   ],
   "source": [
    "query_no_match = 'X'*int((query_len*0.75))\n",
    "print(len(query_no_match), query_no_match[:100])"
   ]
  },
  {
   "cell_type": "code",
   "execution_count": 24,
   "metadata": {
    "collapsed": false
   },
   "outputs": [],
   "source": [
    "query_out = os.path.join(out_directory, 'my_queries', 'query0.fasta')\n",
    "f_out = open(query_out, 'w')\n",
    "f_out.write('> Query 2 - 0% match in DB\\n')\n",
    "f_out.write(str(query_no_match))\n",
    "f_out.close()"
   ]
  },
  {
   "cell_type": "markdown",
   "metadata": {},
   "source": [
    "## Query 3 - completely random sequence\n",
    "First we generate our query, then we write it to a .fasta file"
   ]
  },
  {
   "cell_type": "code",
   "execution_count": 25,
   "metadata": {
    "collapsed": false
   },
   "outputs": [
    {
     "name": "stdout",
     "output_type": "stream",
     "text": [
      "580796 CCGATTAGCCAAACCCATTCTGTGAAAAACGTTCACGAGAAGACGTGCGTCGGTTAATGTACTGAATTTAGGCTGTTTTCAGGCTGGGCAAAATGACGAG\n"
     ]
    }
   ],
   "source": [
    "random.seed(3)\n",
    "bases = ['T', 'C', 'G', 'A']\n",
    "\n",
    "query_random_bases = ''\n",
    "\n",
    "for i in range(0, query_len+1000):\n",
    "    query_random_bases += random.choice(bases)\n",
    "\n",
    "print(len(query_random_bases), query_random_bases[:100])"
   ]
  },
  {
   "cell_type": "code",
   "execution_count": 27,
   "metadata": {
    "collapsed": false
   },
   "outputs": [],
   "source": [
    "query_out = os.path.join(out_directory, 'my_queries', 'queryRandom.fasta')\n",
    "f_out = open(query_out, 'w')\n",
    "f_out.write('> Query 3 - completely random match in DB\\n')\n",
    "f_out.write(str(query_random_bases))\n",
    "f_out.close()"
   ]
  },
  {
   "cell_type": "markdown",
   "metadata": {},
   "source": [
    "## Query 4 - approximately 33% match\n",
    "First we generate our query, then we write it to a .fasta file"
   ]
  },
  {
   "cell_type": "code",
   "execution_count": 28,
   "metadata": {
    "collapsed": false
   },
   "outputs": [
    {
     "name": "stdout",
     "output_type": "stream",
     "text": [
      "Selected \"GCF_000027325.1_ASM2732v1_genomic.fasta\" as the query base for query 1\n",
      "Query length: 580076\n",
      "580076 XXAXXXXXXXTXTXXXXAXXACXXTXXXXXXXAXXXTXXXGXXXTXXXAXXAXXXXXXTXXXXXXXXXTXAXXXAGTXXXXTXXXTTCXTTXAXAXXGXT\n"
     ]
    }
   ],
   "source": [
    "random.seed(4)\n",
    "\n",
    "query_file = files[1]\n",
    "print('Selected \"' + query_file + '\" as the query base for query 1')\n",
    "\n",
    "query_path = os.path.join(out_dir, query_file)\n",
    "query_base = list(SeqIO.parse(query_path, \"fasta\"))\n",
    "\n",
    "query = ''\n",
    "\n",
    "with open(query_path, \"r\") as handle:\n",
    "    for record in SeqIO.parse(handle, \"fasta\"):\n",
    "        query += record.seq\n",
    "        \n",
    "query_len = len(query)\n",
    "print('Query length: %s' % str(query_len))\n",
    "\n",
    "\n",
    "\n",
    "query_33_match = ''\n",
    "\n",
    "for base in query:\n",
    "    choice = np.random.choice([0, 1], replace=True, p=[0.33, 0.67])\n",
    "    \n",
    "    if choice == 1:\n",
    "        query_33_match += 'X'\n",
    "    else:\n",
    "        query_33_match += base\n",
    "\n",
    "print(len(query_33_match), query_33_match[:100])"
   ]
  },
  {
   "cell_type": "code",
   "execution_count": 29,
   "metadata": {
    "collapsed": true
   },
   "outputs": [],
   "source": [
    "query_out = os.path.join(out_directory, 'my_queries', 'query33.fasta')\n",
    "f_out = open(query_out, 'w')\n",
    "f_out.write('> Query 4 - 33% match in DB\\n')\n",
    "f_out.write(str(query_33_match))\n",
    "f_out.close()"
   ]
  },
  {
   "cell_type": "markdown",
   "metadata": {},
   "source": [
    "## Query 5 - approximately 66% match\n",
    "First we generate our query, then we write it to a .fasta file"
   ]
  },
  {
   "cell_type": "code",
   "execution_count": 30,
   "metadata": {
    "collapsed": false
   },
   "outputs": [
    {
     "name": "stdout",
     "output_type": "stream",
     "text": [
      "Selected \"GCF_000292405.1_ASM29240v1_genomic.fasta\" as the query base for query 1\n",
      "Query length: 579977\n",
      "579977 TAXXTXATTATXTAGTXAXXACTXTXXACAATXTXAXTXAXGTATXXXAAAAAXACTXXTATAGTAXTTAACGTAXXXAAATXCTTXXXTTAXXAXTGXX\n"
     ]
    }
   ],
   "source": [
    "random.seed(5)\n",
    "\n",
    "query_file = files[2]\n",
    "print('Selected \"' + query_file + '\" as the query base for query 5')\n",
    "\n",
    "query_path = os.path.join(out_dir, query_file)\n",
    "query_base = list(SeqIO.parse(query_path, \"fasta\"))\n",
    "\n",
    "query = ''\n",
    "\n",
    "with open(query_path, \"r\") as handle:\n",
    "    for record in SeqIO.parse(handle, \"fasta\"):\n",
    "        query += record.seq\n",
    "        \n",
    "query_len = len(query)\n",
    "print('Query length: %s' % str(query_len))\n",
    "\n",
    "\n",
    "query_66_match = ''\n",
    "\n",
    "for base in query:\n",
    "    choice = np.random.choice([0, 1], replace=True, p=[0.67, 0.33])\n",
    "    \n",
    "    if choice == 1:\n",
    "        query_66_match += 'X'\n",
    "    else:\n",
    "        query_66_match += base\n",
    "\n",
    "print(len(query_66_match), query_66_match[:100])"
   ]
  },
  {
   "cell_type": "code",
   "execution_count": 32,
   "metadata": {
    "collapsed": true
   },
   "outputs": [],
   "source": [
    "query_out = os.path.join(out_directory, 'my_queries', 'query66.fasta')\n",
    "f_out = open(query_out, 'w')\n",
    "f_out.write('> Query 5 - 66% match in DB\\n')\n",
    "f_out.write(str(query_66_match))\n",
    "f_out.close()"
   ]
  },
  {
   "cell_type": "code",
   "execution_count": null,
   "metadata": {
    "collapsed": true
   },
   "outputs": [],
   "source": []
  },
  {
   "cell_type": "code",
   "execution_count": null,
   "metadata": {
    "collapsed": true
   },
   "outputs": [],
   "source": []
  }
 ],
 "metadata": {
  "kernelspec": {
   "display_name": "Python 3",
   "language": "python",
   "name": "python3"
  }
 },
 "nbformat": 4,
 "nbformat_minor": 2
}
